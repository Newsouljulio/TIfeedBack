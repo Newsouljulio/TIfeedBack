{
 "cells": [
  {
   "cell_type": "code",
   "execution_count": 1,
   "metadata": {},
   "outputs": [],
   "source": [
    "import serial"
   ]
  },
  {
   "cell_type": "code",
   "execution_count": 19,
   "metadata": {},
   "outputs": [
    {
     "name": "stdout",
     "output_type": "stream",
     "text": [
      "COM3 - Arduino Uno (COM3)\n",
      "COM7 - USB-SERIAL CH340 (COM7)\n",
      "input start to initiate the feedback process: start\n",
      "频率设置完成\n",
      "波形设置完成\n",
      "幅度设置为零\n",
      "打开示波器\n",
      "1.9424000000000001\n",
      "---异常---： list index out of range\n"
     ]
    }
   ],
   "source": [
    "import serial\n",
    "import serial.tools.list_ports\n",
    "import time\n",
    "port_list = list(serial.tools.list_ports.comports())\n",
    "try:\n",
    "    for i in range(0,len(port_list)):\n",
    "        print(port_list[i])\n",
    "    \n",
    "    #波特率，标准值之一：50,75,110,134,150,200,300,600,1200,1800,2400,4800,9600,19200,38400,57600,115200\n",
    "    bps_ge=115200 #信号发生器波特率\n",
    "    bps_ar=19200  #arduino波特率\n",
    "    #超时设置,None：永远等待操作，0为立即返回请求结果，其他值为等待超时时间(单位为秒）\n",
    "    timex=2\n",
    "    # 打开串口，并得到串口对象\n",
    "    ser_ge=serial.Serial(port_list[1][0],bps_ge,timeout=timex)\n",
    "    ser_ge.flushInput()\n",
    "    n = input('input start to initiate the feedback process: ')\n",
    "    fudu_1 = 1000\n",
    "    fudu_2 = 1000 #先看一个通道反馈，一个不进行反馈的效果\n",
    "    freq_1 = 100000\n",
    "    freq_2 = 102000\n",
    "    wave_1 = 1 # 0是正弦波 1是方波\n",
    "    wave_2 = 0\n",
    "    if n == 'start':\n",
    "        ser_ge.flushInput()\n",
    "        ser_ge.write(f\":w23={freq_1},0.\\n\\r\".encode(\"gbk\"))# 设通道1初始频率为1000Hz\n",
    "        ser_ge.write(f\":w24={freq_2},0.\\n\\r\".encode(\"gbk\"))# 设通道2初始频率为1020Hz\n",
    "        print(\"频率设置完成\")\n",
    "        time.sleep(2)\n",
    "        ser_ge.write(f\":w21={wave_1}.\\n\\r\".encode(\"gbk\")) #设初始为方波\n",
    "        ser_ge.write(f\":w22={wave_2}.\\n\\r\".encode(\"gbk\"))\n",
    "        print(\"波形设置完成\")\n",
    "        time.sleep(2)\n",
    "        ser_ge.write(f\":w25={fudu_1}.\\n\\r\".encode(\"gbk\"))\n",
    "        ser_ge.write(f\":w26={fudu_2}.\\n\\r\".encode(\"gbk\"))\n",
    "        print(\"幅度设置为零\")\n",
    "        time.sleep(2)\n",
    "        ser_ge.write(f\":w20=1,1.\\n\\r\".encode(\"gbk\")) # \":w20=1,1.\\n\\r\"\n",
    "        print(\"打开示波器\")\n",
    "        time.sleep(2)\n",
    "        # hint = input('turn on the generator, if done, input y') #此时打开信号发生器\n",
    "        #cue = input(\"输入 yes\")\n",
    "        #while fudu_1 < 1000 and fudu_2 < 1000 and cue == 'yes':  #设初始幅值为1V,幅度慢慢增长\n",
    "            #ser_ge.write(f\":w25={fudu_1}.\\n\\r\".encode(\"gbk\"))\n",
    "            #ser_ge.write(f\":w26={fudu_2}.\\n\\r\".encode(\"gbk\"))\n",
    "            #fudu_1 += 10\n",
    "            #fudu_2 += 10\n",
    "            #time.sleep(0.05)\n",
    "    ser_ar=serial.Serial(port_list[0][0],bps_ar,timeout=timex)\n",
    "    ser_ar.flushInput()\n",
    "    read_line = ser_ar.readline()\n",
    "    # print(read_line.decode(\"gbk\"),end=\" \")\n",
    "    # print(type(read_line.decode(\"gbk\")))\n",
    "    read_intens = read_line.decode(\"gbk\").strip().split()\n",
    "    inten_1 = float(read_intens[1]) + float(read_intens[2],)\n",
    "    inten_2 = float(read_intens[3]) + float(read_intens[4])\n",
    "    print(inten_1)\n",
    "    # read_inten = ser_ar.readline()\n",
    "    while abs(inten_1 - 2) > 0.02: # 一旦反馈完成，就不再进行调整\n",
    "        \n",
    "        if inten_1 - 2 > 0:\n",
    "            fudu_1 -= 5\n",
    "        else:\n",
    "            fudu_1 += 5\n",
    "        ser_ge.write(f\":w25={fudu_1}.\\n\\r\".encode(\"gbk\")) # 先进行channel 1的反馈\n",
    "        time.sleep(4)\n",
    "        ser_ar.flushInput()\n",
    "        read_line = ser_ar.readline()\n",
    "        read_intens = read_line.decode(\"gbk\").strip().split()\n",
    "        inten_1 = float(read_intens[1]) + float(read_intens[2])\n",
    "        print(inten_1)\n",
    "        # inten_2 = float(read_intens[3]) + float(read_intens[4])\n",
    "        # inten_1 = 2.01\n",
    "    \n",
    "    wave_1 = 0\n",
    "    ser_ge.write(f\":w21={wave_1}.\\n\\r\".encode(\"gbk\")) #将波形改为正弦波\n",
    "    print(\" channel_1 feedback done\")\n",
    "    ser_ar.close()\n",
    "    ser_ge.close()\n",
    "        \n",
    "        \n",
    "    # print(ser.read())\n",
    "    # print(result.encode('gbk'))\n",
    "\n",
    "    # ser.close()#关闭串口\n",
    "\n",
    "except Exception as e:\n",
    "    print(\"---异常---：\",e)"
   ]
  },
  {
   "cell_type": "code",
   "execution_count": 11,
   "metadata": {},
   "outputs": [
    {
     "name": "stdout",
     "output_type": "stream",
     "text": [
      "[<serial.tools.list_ports_common.ListPortInfo object at 0x0000019310D934E0>, <serial.tools.list_ports_common.ListPortInfo object at 0x0000019310D93630>]\n",
      "COM3 - Arduino Uno (COM3)\n",
      "COM7 - USB-SERIAL CH340 (COM7)\n"
     ]
    }
   ],
   "source": [
    "import serial.tools.list_ports\n",
    "port_list = list(serial.tools.list_ports.comports())\n",
    "print(port_list)\n",
    "if len(port_list) == 0:\n",
    "   print('无可用串口')\n",
    "else:\n",
    "    for i in range(0,len(port_list)):\n",
    "        print(port_list[i])"
   ]
  },
  {
   "cell_type": "code",
   "execution_count": 38,
   "metadata": {
    "scrolled": true
   },
   "outputs": [
    {
     "name": "stdout",
     "output_type": "stream",
     "text": [
      "COM3\n",
      "p   0.1685   1.6959   3.0126   3.9080   \n",
      " <class 'str'>\n",
      "1.9171\n"
     ]
    }
   ],
   "source": [
    "bps_ar = 19200\n",
    "#print(type(port_list[0]))\n",
    "print(port_list[0][0])\n",
    "ser_ar=serial.Serial(port_list[0][0],bps_ar,timeout=timex)\n",
    "ser_ar.flushInput()\n",
    "read_line = ser_ar.readline()\n",
    "#print(read_line.decode(\"gbk\"),end=\" \")\n",
    "#print(type(read_line.decode(\"gbk\")))\n",
    "read_intens = read_inten.decode(\"gbk\").strip().split()\n",
    "inten_1 = float(read_intens[1]) + float(read_intens[2])\n",
    "inten_2 = float(read_intens[3]) + float(read_intens[4])\n",
    "print(inten_1)\n",
    "ser_ar.close()"
   ]
  },
  {
   "cell_type": "code",
   "execution_count": 7,
   "metadata": {},
   "outputs": [
    {
     "name": "stdout",
     "output_type": "stream",
     "text": [
      "2 2 1\n"
     ]
    }
   ],
   "source": [
    "# 争夺国土\n",
    "set1 = set([1,2,3])\n",
    "set2 = set([3,4,5])\n",
    "print(len(set1.difference(set2)),end = \" \")\n",
    "print(len(set2.difference(set1)),end = \" \")\n",
    "print(len(set1.intersection(set2)))"
   ]
  },
  {
   "cell_type": "code",
   "execution_count": 10,
   "metadata": {},
   "outputs": [
    {
     "name": "stdout",
     "output_type": "stream",
     "text": [
      "1\n"
     ]
    }
   ],
   "source": [
    "str1 = 'AAAb'\n",
    "big = []\n",
    "small = []\n",
    "for i in str1:\n",
    "    if i.isupper():\n",
    "        big.append(i)\n",
    "    else:\n",
    "        small.append(i)\n",
    "res = int(0.5*(abs(len(big)-len(small))))\n",
    "print(res)"
   ]
  },
  {
   "cell_type": "code",
   "execution_count": 9,
   "metadata": {},
   "outputs": [
    {
     "data": {
      "text/plain": [
       "1.0"
      ]
     },
     "execution_count": 9,
     "metadata": {},
     "output_type": "execute_result"
    }
   ],
   "source": [
    "res"
   ]
  },
  {
   "cell_type": "code",
   "execution_count": 21,
   "metadata": {},
   "outputs": [
    {
     "data": {
      "text/plain": [
       "2"
      ]
     },
     "execution_count": 21,
     "metadata": {},
     "output_type": "execute_result"
    }
   ],
   "source": [
    "3^(1%1)^(1%2)"
   ]
  },
  {
   "cell_type": "code",
   "execution_count": 16,
   "metadata": {},
   "outputs": [
    {
     "data": {
      "text/plain": [
       "2"
      ]
     },
     "execution_count": 16,
     "metadata": {},
     "output_type": "execute_result"
    }
   ],
   "source": [
    "2^(2%1)^(2%2)"
   ]
  },
  {
   "cell_type": "code",
   "execution_count": 17,
   "metadata": {},
   "outputs": [
    {
     "data": {
      "text/plain": [
       "1"
      ]
     },
     "execution_count": 17,
     "metadata": {},
     "output_type": "execute_result"
    }
   ],
   "source": [
    "3^2"
   ]
  },
  {
   "cell_type": "code",
   "execution_count": 22,
   "metadata": {},
   "outputs": [
    {
     "ename": "TypeError",
     "evalue": "unsupported operand type(s) for -=: 'list' and 'int'",
     "output_type": "error",
     "traceback": [
      "\u001b[1;31m---------------------------------------------------------------------------\u001b[0m",
      "\u001b[1;31mTypeError\u001b[0m                                 Traceback (most recent call last)",
      "\u001b[1;32m<ipython-input-22-26888ed1a170>\u001b[0m in \u001b[0;36m<module>\u001b[1;34m\u001b[0m\n\u001b[0;32m      3\u001b[0m \u001b[1;32mif\u001b[0m \u001b[0mlen\u001b[0m\u001b[1;33m(\u001b[0m\u001b[0mlist1\u001b[0m\u001b[1;33m)\u001b[0m \u001b[1;33m<\u001b[0m \u001b[0mmax_sub\u001b[0m\u001b[1;33m:\u001b[0m\u001b[1;33m\u001b[0m\u001b[0m\n\u001b[0;32m      4\u001b[0m     \u001b[0mprint\u001b[0m\u001b[1;33m(\u001b[0m\u001b[1;34m\"NO\"\u001b[0m\u001b[1;33m)\u001b[0m\u001b[1;33m\u001b[0m\u001b[0m\n\u001b[1;32m----> 5\u001b[1;33m \u001b[0mlist1\u001b[0m \u001b[1;33m-=\u001b[0m \u001b[1;36m1\u001b[0m\u001b[1;33m\u001b[0m\u001b[0m\n\u001b[0m",
      "\u001b[1;31mTypeError\u001b[0m: unsupported operand type(s) for -=: 'list' and 'int'"
     ]
    }
   ],
   "source": [
    "list1 = [1,1,3]\n",
    "max_sub = max(list1)\n",
    "if len(list1) < max_sub:\n",
    "    print(\"NO\")\n",
    "else:\n",
    "    newli = []\n",
    "    for i in list1:\n",
    "        i -= 1\n",
    "        newli.append(i)\n",
    "    if 1 in newli:\n",
    "        print(\"NO\")\n",
    "    else:\n",
    "        max_new = max(newli)\n",
    "        \n",
    "        \n",
    "\n",
    "def findMatch(alist):\n",
    "    \n",
    "    "
   ]
  },
  {
   "cell_type": "code",
   "execution_count": 23,
   "metadata": {},
   "outputs": [
    {
     "data": {
      "text/plain": [
       "1"
      ]
     },
     "execution_count": 23,
     "metadata": {},
     "output_type": "execute_result"
    }
   ],
   "source": [
    "al = [0,2,3]\n",
    "al.count(0)"
   ]
  },
  {
   "cell_type": "code",
   "execution_count": 102,
   "metadata": {},
   "outputs": [],
   "source": [
    "ser_ar.close()\n",
    "ser_ge.close()"
   ]
  },
  {
   "cell_type": "code",
   "execution_count": 15,
   "metadata": {},
   "outputs": [
    {
     "name": "stdout",
     "output_type": "stream",
     "text": [
      "Object `serial.Serial()` not found.\n"
     ]
    }
   ],
   "source": [
    "?serial.Serial()"
   ]
  },
  {
   "cell_type": "code",
   "execution_count": 16,
   "metadata": {},
   "outputs": [],
   "source": [
    "?serial.Serial"
   ]
  },
  {
   "cell_type": "code",
   "execution_count": 2,
   "metadata": {},
   "outputs": [
    {
     "name": "stdout",
     "output_type": "stream",
     "text": [
      "COM3 - Arduino Uno (COM3)\n",
      "COM7 - USB-SERIAL CH340 (COM7)\n",
      "input start to initiate the feedback process: start\n",
      "频率设置完成\n",
      "波形设置完成\n",
      "幅度设置为零\n",
      "打开示波器\n",
      "['p', '1.8464', '1.7486']\n",
      "1.8464\n",
      "1.7486\n",
      "b'p  1.9061  2.0435  \\n'\n",
      "['p', '1.9061', '2.0435']\n",
      "幅值1：  1.9061\n",
      "b'p  1.9162  2.0435  \\n'\n",
      "['p', '1.9162', '2.0435']\n",
      "幅值1：  1.9162\n",
      "b'p  1.9162  2.0541  \\n'\n",
      "['p', '1.9162', '2.0541']\n",
      "幅值1：  1.9162\n",
      "b'p  1.9162  2.0541  \\n'\n",
      "['p', '1.9162', '2.0541']\n",
      "幅值1：  1.9162\n",
      "b'p  1.9162  2.0646  \\n'\n",
      "['p', '1.9162', '2.0646']\n",
      "幅值1：  1.9162\n",
      "b'p  1.9364  2.0646  \\n'\n",
      "['p', '1.9364', '2.0646']\n",
      "幅值1：  1.9364\n",
      "b'p  1.9563  2.0646  \\n'\n",
      "['p', '1.9563', '2.0646']\n",
      "幅值1：  1.9563\n",
      "b'p  1.9563  2.0646  \\n'\n",
      "['p', '1.9563', '2.0646']\n",
      "幅值1：  1.9563\n",
      "b'p  1.9563  2.0646  \\n'\n",
      "['p', '1.9563', '2.0646']\n",
      "幅值1：  1.9563\n",
      "b'p  1.9763  2.0646  \\n'\n",
      "['p', '1.9763', '2.0646']\n",
      "幅值1：  1.9763\n",
      "b'p  1.9763  2.0646  \\n'\n",
      "['p', '1.9763', '2.0646']\n",
      "幅值1：  1.9763\n",
      "b'p  1.9763  2.0646  \\n'\n",
      "['p', '1.9763', '2.0646']\n",
      "幅值1：  1.9763\n",
      "b'p  1.9965  2.0646  \\n'\n",
      "['p', '1.9965', '2.0646']\n",
      "幅值1：  1.9965\n",
      "feedback done\n"
     ]
    }
   ],
   "source": [
    "import serial\n",
    "import serial.tools.list_ports\n",
    "import time\n",
    "port_list = list(serial.tools.list_ports.comports())\n",
    "\n",
    "for i in range(0,len(port_list)):\n",
    "    print(port_list[i])\n",
    "\n",
    "#波特率，标准值之一：50,75,110,134,150,200,300,600,1200,1800,2400,4800,9600,19200,38400,57600,115200\n",
    "bps_ge=115200 #信号发生器波特率\n",
    "bps_ar=19200  #arduino波特率\n",
    "#超时设置,None：永远等待操作，0为立即返回请求结果，其他值为等待超时时间(单位为秒）\n",
    "timex=2\n",
    "# 打开串口，并得到串口对象\n",
    "ser_ge=serial.Serial(port_list[1][0],bps_ge,timeout=timex)\n",
    "ser_ge.flushInput()\n",
    "n = input('input start to initiate the feedback process: ')\n",
    "fudu_1 = 1000\n",
    "fudu_2 = 1000 #先看一个通道反馈，一个不进行反馈的效果\n",
    "freq_1 = 100000\n",
    "freq_2 = 102000\n",
    "wave_1 = 1 # 0是正弦波 1是方波\n",
    "wave_2 = 0\n",
    "if n == 'start':\n",
    "    ser_ge.flushInput()\n",
    "    ser_ge.write(f\":w23={freq_1},0.\\n\\r\".encode(\"gbk\"))# 设通道1初始频率为1000Hz\n",
    "    ser_ge.write(f\":w24={freq_2},0.\\n\\r\".encode(\"gbk\"))# 设通道2初始频率为1020Hz\n",
    "    print(\"频率设置完成\")\n",
    "    time.sleep(2)\n",
    "    ser_ge.write(f\":w21={wave_1}.\\n\\r\".encode(\"gbk\")) #设初始为方波\n",
    "    ser_ge.write(f\":w22={wave_2}.\\n\\r\".encode(\"gbk\"))\n",
    "    print(\"波形设置完成\")\n",
    "    time.sleep(2)\n",
    "    ser_ge.write(f\":w25={fudu_1}.\\n\\r\".encode(\"gbk\"))\n",
    "    ser_ge.write(f\":w26={fudu_2}.\\n\\r\".encode(\"gbk\"))\n",
    "    print(\"幅度设置为零\")\n",
    "    time.sleep(2)\n",
    "    ser_ge.write(f\":w20=1,1.\\n\\r\".encode(\"gbk\")) # \":w20=1,1.\\n\\r\"\n",
    "    print(\"打开示波器\")\n",
    "    time.sleep(2)\n",
    "    # hint = input('turn on the generator, if done, input y') #此时打开信号发生器\n",
    "    #cue = input(\"输入 yes\")\n",
    "    #while fudu_1 < 1000 and fudu_2 < 1000 and cue == 'yes':  #设初始幅值为1V,幅度慢慢增长 测试用示波器 0.x V输入时不对，所以继电器会断掉\n",
    "        #ser_ge.write(f\":w25={fudu_1}.\\n\\r\".encode(\"gbk\"))\n",
    "        #ser_ge.write(f\":w26={fudu_2}.\\n\\r\".encode(\"gbk\"))\n",
    "        #fudu_1 += 10\n",
    "        #fudu_2 += 10\n",
    "        #time.sleep(0.05)\n",
    "ser_ar=serial.Serial(port_list[0][0],bps_ar,timeout = None)\n",
    "ser_ar.flushInput()\n",
    "read_line = ser_ar.readline()\n",
    "# print(read_line.decode(\"gbk\"),end=\" \")\n",
    "# print(type(read_line.decode(\"gbk\")))\n",
    "# print(read_line)\n",
    "read_intens = read_line.decode(\"gbk\").strip().split()\n",
    "while read_intens[0] != 'p' or len(read_intens) != 3:\n",
    "    read_line = ser_ar.readline()\n",
    "    read_intens = read_line.decode(\"gbk\").strip().split()\n",
    "print(read_intens)\n",
    "inten_1 = float(read_intens[1]) #+ float(read_intens[2])\n",
    "inten_2 = float(read_intens[2]) #+ float(read_intens[4])\n",
    "print(inten_1)\n",
    "print(inten_2)\n",
    "# read_inten = ser_ar.readline()\n",
    "while abs(inten_1 - 2) > 0.02: # 一旦反馈完成，就不再进行调整     or abs(inten_2 - 2) > 0.02\n",
    "    if inten_1 - 2 > 0:\n",
    "        fudu_1 -= 5\n",
    "    else:\n",
    "        fudu_1 += 5\n",
    "    # if inten_2 - 2 > 0:\n",
    "        # fudu_2 -= 5\n",
    "    # else:\n",
    "        # fudu_2 += 5\n",
    "    ser_ge.write(f\":w25={fudu_1}.\\n\\r\".encode(\"gbk\"))\n",
    "    # ser_ge.write(f\":w26={fudu_2}.\\n\\r\".encode(\"gbk\"))# 先进行channel 1的反馈\n",
    "    time.sleep(2)\n",
    "    # ser_ar=serial.Serial(port_list[0][0],bps_ar,timeout=timex)\n",
    "    ser_ar.flushInput()\n",
    "    read_line = ser_ar.readline()\n",
    "    print(read_line)\n",
    "    read_intens = read_line.decode(\"gbk\").strip().split()\n",
    "    print(read_intens)\n",
    "    if read_intens[0] != 'p' or len(read_intens) != 3:\n",
    "        continue\n",
    "    inten_1 = float(read_intens[1])#+ float(read_intens[2])\n",
    "    inten_2 = float(read_intens[2])\n",
    "    print(\"幅值1： \", inten_1)\n",
    "    # print(\"幅值2： \", inten_2)\n",
    "    # inten_2 = float(read_intens[3]) + float(read_intens[4])\n",
    "    # inten_1 = 2.01\n",
    "\n",
    "wave_1 = 0\n",
    "wave_2 = 0\n",
    "ser_ge.write(f\":w21={wave_1}.\\n\\r\".encode(\"gbk\"))#将波形改为正弦波\n",
    "# ser_ge.write(f\":w21={wave_2}.\\n\\r\".encode(\"gbk\"))\n",
    "print(\"feedback done\")\n",
    "ser_ar.close()\n",
    "ser_ge.close()"
   ]
  },
  {
   "cell_type": "code",
   "execution_count": 45,
   "metadata": {},
   "outputs": [
    {
     "name": "stdout",
     "output_type": "stream",
     "text": [
      "b'p   0.0000   0.0000   0.0000   0.0000   \\n'\n"
     ]
    }
   ],
   "source": [
    "ser_ar=serial.Serial(port_list[0][0],bps_ar,timeout=timex)\n",
    "ser_ar.flushInput()\n",
    "read_line = ser_ar.readline()\n",
    "print(read_line)"
   ]
  },
  {
   "cell_type": "code",
   "execution_count": null,
   "metadata": {},
   "outputs": [],
   "source": []
  }
 ],
 "metadata": {
  "kernelspec": {
   "display_name": "Python 3",
   "language": "python",
   "name": "python3"
  },
  "language_info": {
   "codemirror_mode": {
    "name": "ipython",
    "version": 3
   },
   "file_extension": ".py",
   "mimetype": "text/x-python",
   "name": "python",
   "nbconvert_exporter": "python",
   "pygments_lexer": "ipython3",
   "version": "3.7.0"
  }
 },
 "nbformat": 4,
 "nbformat_minor": 4
}
